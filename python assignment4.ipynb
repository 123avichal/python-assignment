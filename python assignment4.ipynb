{
 "cells": [
  {
   "cell_type": "code",
   "execution_count": 41,
   "id": "82426001-01fd-4269-b0b1-d5c820ba978c",
   "metadata": {},
   "outputs": [],
   "source": [
    "#Q2\n",
    "l =[1,2,3,4,5,6,7,8,9,10]"
   ]
  },
  {
   "cell_type": "code",
   "execution_count": 42,
   "id": "9a95b5cb-ed36-4998-9c8f-59a8b03f61b0",
   "metadata": {},
   "outputs": [],
   "source": [
    "def sq(a):\n",
    "    return a**2"
   ]
  },
  {
   "cell_type": "code",
   "execution_count": 43,
   "id": "264bcb15-26c8-487f-9633-bd48dc8e0b98",
   "metadata": {},
   "outputs": [
    {
     "data": {
      "text/plain": [
       "[1, 4, 9, 16, 25, 36, 49, 64, 81, 100]"
      ]
     },
     "execution_count": 43,
     "metadata": {},
     "output_type": "execute_result"
    }
   ],
   "source": [
    "list(map(sq,l))"
   ]
  },
  {
   "cell_type": "code",
   "execution_count": 44,
   "id": "78a55c1e-ff62-49a7-baeb-4caf6548d263",
   "metadata": {},
   "outputs": [
    {
     "data": {
      "text/plain": [
       "[1, 4, 9, 16, 25, 36, 49, 64, 81, 100]"
      ]
     },
     "execution_count": 44,
     "metadata": {},
     "output_type": "execute_result"
    }
   ],
   "source": [
    "list(map(lambda x : x**2,l))"
   ]
  },
  {
   "cell_type": "code",
   "execution_count": 46,
   "id": "5fec1e92-79d9-46c9-87d8-af131fde8a86",
   "metadata": {},
   "outputs": [],
   "source": [
    "#Q3\n",
    "s = '1','2','3','4','5','6','7','8','9','10'"
   ]
  },
  {
   "cell_type": "code",
   "execution_count": 48,
   "id": "631f109e-8fec-402d-8b69-9746bb2c1266",
   "metadata": {},
   "outputs": [],
   "source": [
    "def str(s):\n",
    "    return s"
   ]
  },
  {
   "cell_type": "code",
   "execution_count": 50,
   "id": "b5675bae-d526-4d4a-9975-a890973dc0b1",
   "metadata": {},
   "outputs": [
    {
     "data": {
      "text/plain": [
       "('1', '2', '3', '4', '5', '6', '7', '8', '9', '10')"
      ]
     },
     "execution_count": 50,
     "metadata": {},
     "output_type": "execute_result"
    }
   ],
   "source": [
    "tuple(map(str,s))"
   ]
  },
  {
   "cell_type": "code",
   "execution_count": 51,
   "id": "5620fd14-ae82-4055-ba43-b0e514f6628b",
   "metadata": {},
   "outputs": [],
   "source": [
    "#Q4\n",
    "from functools import reduce"
   ]
  },
  {
   "cell_type": "code",
   "execution_count": 52,
   "id": "d2a66ab7-fc5e-40d2-b51d-a1afe4e81c9f",
   "metadata": {},
   "outputs": [],
   "source": [
    "l = [1,2,3,4,5,6,7,8,9,10,11,12,13,14,15,16,17,18,19,20,21,22,23,24,25]"
   ]
  },
  {
   "cell_type": "code",
   "execution_count": 54,
   "id": "ff39e5e2-4f13-45e1-b8ac-17fa39f40816",
   "metadata": {},
   "outputs": [
    {
     "data": {
      "text/plain": [
       "15511210043330985984000000"
      ]
     },
     "execution_count": 54,
     "metadata": {},
     "output_type": "execute_result"
    }
   ],
   "source": [
    "reduce(lambda x,y:x*y,l)"
   ]
  },
  {
   "cell_type": "code",
   "execution_count": 55,
   "id": "f3edb78e-ff23-460c-8c47-ee175e77fe87",
   "metadata": {},
   "outputs": [],
   "source": [
    "#Q5\n",
    "l = [2,3,6,9,27,60,90,120,55,46]"
   ]
  },
  {
   "cell_type": "code",
   "execution_count": 77,
   "id": "ae14e73e-ff2f-4a8d-bb90-b0fe84e7f9ff",
   "metadata": {},
   "outputs": [
    {
     "data": {
      "text/plain": [
       "[2, 3, 6, 9, 27, 60, 90, 120, 46]"
      ]
     },
     "execution_count": 77,
     "metadata": {},
     "output_type": "execute_result"
    }
   ],
   "source": [
    "list(filter(lambda x : x%2==0 or x%3==0 ,l))"
   ]
  },
  {
   "cell_type": "code",
   "execution_count": 78,
   "id": "45ab5aba-38d8-4f4c-965a-be1b6d82e8a5",
   "metadata": {},
   "outputs": [],
   "source": [
    "#Q6\n",
    "l= [\"python\",'php','aba','radar','level']"
   ]
  },
  {
   "cell_type": "code",
   "execution_count": 79,
   "id": "d478bb49-0e30-4c14-b773-e70426693c3d",
   "metadata": {},
   "outputs": [
    {
     "data": {
      "text/plain": [
       "['php', 'aba', 'radar', 'level']"
      ]
     },
     "execution_count": 79,
     "metadata": {},
     "output_type": "execute_result"
    }
   ],
   "source": [
    "list(filter(lambda x: (x == \"\".join(reversed(x))), l)) "
   ]
  }
 ],
 "metadata": {
  "kernelspec": {
   "display_name": "Python 3 (ipykernel)",
   "language": "python",
   "name": "python3"
  },
  "language_info": {
   "codemirror_mode": {
    "name": "ipython",
    "version": 3
   },
   "file_extension": ".py",
   "mimetype": "text/x-python",
   "name": "python",
   "nbconvert_exporter": "python",
   "pygments_lexer": "ipython3",
   "version": "3.10.8"
  }
 },
 "nbformat": 4,
 "nbformat_minor": 5
}
